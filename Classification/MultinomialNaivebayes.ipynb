{
 "cells": [
  {
   "cell_type": "code",
   "execution_count": 1,
   "metadata": {
    "collapsed": true
   },
   "outputs": [],
   "source": [
    "import numpy as np\n",
    "import pandas as pd\n",
    "from sklearn.feature_extraction.text import CountVectorizer\n",
    "from sklearn.naive_bayes import MultinomialNB"
   ]
  },
  {
   "cell_type": "code",
   "execution_count": 2,
   "metadata": {
    "scrolled": true
   },
   "outputs": [
    {
     "name": "stdout",
     "output_type": "stream",
     "text": [
      "---------------------------------------------------------------------\n",
      "                                              Comment      Type\n",
      "0                        Keep the oranges in the bin.  Positive\n",
      "1               Don't throw the oranges on the floor.  Negative\n",
      "2                    Hold the carton with both hands.  Positive\n",
      "3                     Don't drop that carton of eggs.  Negative\n",
      "4   You may ask me any questions you want, but ple...  Positive\n",
      "5   Talk to him; tell him what you want/ use your ...  Positive\n",
      "6         Don't you talk to me in that tone of voice.  Negative\n",
      "7   I bet you could place the bread gently into th...  Positive\n",
      "8                                       Stop hitting.  Negative\n",
      "9           Maybe we can have a special treat at home  Positive\n",
      "10                           Don't squeeze the bread.  Negative\n",
      "11                  Don't ask for everything you see.  Negative\n"
     ]
    }
   ],
   "source": [
    "data = pd.read_csv('Sample_Comments.csv')\n",
    "print(\"---------------------------------------------------------------------\")\n",
    "print(data)"
   ]
  },
  {
   "cell_type": "code",
   "execution_count": 3,
   "metadata": {},
   "outputs": [
    {
     "data": {
      "text/plain": [
       "MultinomialNB(alpha=1.0, class_prior=None, fit_prior=True)"
      ]
     },
     "execution_count": 3,
     "metadata": {},
     "output_type": "execute_result"
    }
   ],
   "source": [
    "vectorizer = CountVectorizer()\n",
    "counts = vectorizer.fit_transform(data['Comment'].values)\n",
    "classifier = MultinomialNB()\n",
    "targets = data['Type'].values\n",
    "classifier.fit(counts,targets)"
   ]
  },
  {
   "cell_type": "code",
   "execution_count": 4,
   "metadata": {},
   "outputs": [
    {
     "name": "stdout",
     "output_type": "stream",
     "text": [
      "['Positive' 'Positive']\n"
     ]
    }
   ],
   "source": [
    "testdata = ['Always respect your elders','Never disobey your elders']\n",
    "testdata_count = vectorizer.transform(testdata)\n",
    "\n",
    "predicttype = classifier.predict(testdata_count)\n",
    "print(predicttype)"
   ]
  },
  {
   "cell_type": "code",
   "execution_count": null,
   "metadata": {
    "collapsed": true
   },
   "outputs": [],
   "source": []
  }
 ],
 "metadata": {
  "kernelspec": {
   "display_name": "Python 3",
   "language": "python",
   "name": "python3"
  },
  "language_info": {
   "codemirror_mode": {
    "name": "ipython",
    "version": 3
   },
   "file_extension": ".py",
   "mimetype": "text/x-python",
   "name": "python",
   "nbconvert_exporter": "python",
   "pygments_lexer": "ipython3",
   "version": "3.6.1"
  }
 },
 "nbformat": 4,
 "nbformat_minor": 2
}
