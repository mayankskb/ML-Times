{
 "cells": [
  {
   "cell_type": "code",
   "execution_count": 1,
   "metadata": {
    "collapsed": true
   },
   "outputs": [],
   "source": [
    "from pyspark.sql import SparkSession\n",
    "spark = SparkSession.builder.appName('IPO Prediction').getOrCreate()"
   ]
  },
  {
   "cell_type": "code",
   "execution_count": 2,
   "metadata": {
    "scrolled": true
   },
   "outputs": [
    {
     "name": "stdout",
     "output_type": "stream",
     "text": [
      "root\n",
      " |-- Date: string (nullable = true)\n",
      " |-- Issuer: string (nullable = true)\n",
      " |-- Symbol: string (nullable = true)\n",
      " |-- Lead/Joint-Lead  Managers: string (nullable = true)\n",
      " |-- Offer Price: string (nullable = true)\n",
      " |-- Opening Price: string (nullable = true)\n",
      " |-- 1st Day Close: string (nullable = true)\n",
      " |-- 1st Day % Px Chng : string (nullable = true)\n",
      " |-- $ Change Opening: string (nullable = true)\n",
      " |-- $ Change Close: string (nullable = true)\n",
      " |-- Star Ratings: string (nullable = true)\n",
      " |-- Performed: string (nullable = true)\n",
      "\n"
     ]
    }
   ],
   "source": [
    "data = spark.read.csv('ipo.csv', inferSchema=True, header=True)\n",
    "data.printSchema()"
   ]
  },
  {
   "cell_type": "code",
   "execution_count": 3,
   "metadata": {
    "scrolled": true
   },
   "outputs": [
    {
     "data": {
      "text/plain": [
       "[Row(Date='1/20/17', Issuer='FinTech Acquisition Corp. II', Symbol='FNTEU', Lead/Joint-Lead  Managers='Cantor Fitzgerald & Co.', Offer Price='$10.00', Opening Price='$10.10', 1st Day Close='$10.05', 1st Day % Px Chng ='0.50%', $ Change Opening='$0.10', $ Change Close='$0.05', Star Ratings='1', Performed=None)]"
      ]
     },
     "execution_count": 3,
     "metadata": {},
     "output_type": "execute_result"
    }
   ],
   "source": [
    "data.head(1)"
   ]
  },
  {
   "cell_type": "code",
   "execution_count": 4,
   "metadata": {
    "collapsed": true
   },
   "outputs": [],
   "source": [
    "from pyspark.sql.functions import udf\n",
    "from pyspark.sql.types import FloatType, StringType, IntegerType, DateType\n",
    "from pyspark.sql.functions import col, column, year, to_date, month\n",
    "import matplotlib.pyplot as plt\n",
    "%matplotlib inline"
   ]
  },
  {
   "cell_type": "code",
   "execution_count": 5,
   "metadata": {
    "collapsed": true
   },
   "outputs": [],
   "source": [
    "rem_dollar = udf(lambda x: x if '$' not in str(x) else x.replace('$',''),StringType())\n",
    "rem_percent = udf(lambda x: x if '%' not in str(x) else x.replace('%', ''), StringType())"
   ]
  },
  {
   "cell_type": "code",
   "execution_count": 6,
   "metadata": {
    "collapsed": true
   },
   "outputs": [],
   "source": [
    "data = data.withColumn('Offer_Price', rem_dollar(data['Offer Price']))\n",
    "data = data.withColumn('Opening_Price', rem_dollar(data['Opening Price']))\n",
    "data = data.withColumn('1st_Day_Close', rem_dollar(data['1st Day Close']))\n",
    "data = data.withColumn('Change_Opening', rem_dollar(data['$ Change Opening']))\n",
    "data = data.withColumn('Change_Close', rem_dollar(data['$ Change Close']))\n",
    "\n",
    "\n",
    "data = data.withColumn('1_Day_per_chnge', rem_percent(data['1st Day % Px Chng ']))"
   ]
  },
  {
   "cell_type": "code",
   "execution_count": 7,
   "metadata": {
    "collapsed": true,
    "scrolled": true
   },
   "outputs": [],
   "source": [
    "data = data.select(['Date', 'Issuer', 'Symbol', 'Lead/Joint-Lead  Managers', 'Offer_Price', 'Opening_Price',\n",
    "                     '1st_Day_Close','1_Day_per_chnge', 'Change_Opening', 'Change_Close', 'Star Ratings',\n",
    "                    'Performed'])"
   ]
  },
  {
   "cell_type": "code",
   "execution_count": 8,
   "metadata": {
    "collapsed": true
   },
   "outputs": [],
   "source": [
    "data = data.withColumn('OfferPrice', data['Offer_Price'].cast(FloatType()))\n",
    "data = data.withColumn('OpeningPrice', data['Opening_Price'].cast(FloatType()))\n",
    "data = data.withColumn('1st_DayClose', data['1st_Day_Close'].cast(FloatType()))\n",
    "data = data.withColumn('1_Day_perChnge', data['1_Day_per_chnge'].cast(FloatType()))\n",
    "data = data.withColumn('ChangeOpening', data['Change_Opening'].cast(FloatType()))\n",
    "data = data.withColumn('ChangeClose', data['Change_Close'].cast(FloatType()))\n",
    "\n",
    "\n",
    "data = data.withColumn('Star_Ratings', data['Star Ratings'].cast(IntegerType()))\n",
    "\n",
    "data = data.withColumn('date', to_date(data['Date'],'mm/dd/yy'))"
   ]
  },
  {
   "cell_type": "code",
   "execution_count": 9,
   "metadata": {
    "collapsed": true
   },
   "outputs": [],
   "source": [
    "data = data.select(['date', 'Issuer', 'Symbol', 'Lead/Joint-Lead  Managers','OfferPrice', 'OpeningPrice',\n",
    "                     '1st_DayClose', '1_Day_perChnge', 'ChangeOpening', 'ChangeClose', 'Star_Ratings',\n",
    "                    'Performed'])"
   ]
  },
  {
   "cell_type": "code",
   "execution_count": 10,
   "metadata": {},
   "outputs": [
    {
     "data": {
      "text/plain": [
       "['date',\n",
       " 'Issuer',\n",
       " 'Symbol',\n",
       " 'Lead/Joint-Lead  Managers',\n",
       " 'OfferPrice',\n",
       " 'OpeningPrice',\n",
       " '1st_DayClose',\n",
       " '1_Day_perChnge',\n",
       " 'ChangeOpening',\n",
       " 'ChangeClose',\n",
       " 'Star_Ratings',\n",
       " 'Performed']"
      ]
     },
     "execution_count": 10,
     "metadata": {},
     "output_type": "execute_result"
    }
   ],
   "source": [
    "data.columns"
   ]
  },
  {
   "cell_type": "code",
   "execution_count": 11,
   "metadata": {
    "scrolled": false
   },
   "outputs": [
    {
     "name": "stdout",
     "output_type": "stream",
     "text": [
      "root\n",
      " |-- date: date (nullable = true)\n",
      " |-- Issuer: string (nullable = true)\n",
      " |-- Symbol: string (nullable = true)\n",
      " |-- Lead/Joint-Lead  Managers: string (nullable = true)\n",
      " |-- OfferPrice: float (nullable = true)\n",
      " |-- OpeningPrice: float (nullable = true)\n",
      " |-- 1st_DayClose: float (nullable = true)\n",
      " |-- 1_Day_perChnge: float (nullable = true)\n",
      " |-- ChangeOpening: float (nullable = true)\n",
      " |-- ChangeClose: float (nullable = true)\n",
      " |-- Star_Ratings: integer (nullable = true)\n",
      " |-- Performed: string (nullable = true)\n",
      "\n"
     ]
    }
   ],
   "source": [
    "data.printSchema()"
   ]
  },
  {
   "cell_type": "code",
   "execution_count": 12,
   "metadata": {
    "collapsed": true
   },
   "outputs": [],
   "source": [
    "data = data.withColumn('Year', year(data['date']))"
   ]
  },
  {
   "cell_type": "code",
   "execution_count": 13,
   "metadata": {
    "scrolled": true
   },
   "outputs": [
    {
     "name": "stdout",
     "output_type": "stream",
     "text": [
      "+----------+--------------------+------+-------------------------+----------+------------+------------+--------------+-------------+-----------+------------+---------+----+\n",
      "|      date|              Issuer|Symbol|Lead/Joint-Lead  Managers|OfferPrice|OpeningPrice|1st_DayClose|1_Day_perChnge|ChangeOpening|ChangeClose|Star_Ratings|Performed|Year|\n",
      "+----------+--------------------+------+-------------------------+----------+------------+------------+--------------+-------------+-----------+------------+---------+----+\n",
      "|2017-01-20|FinTech Acquisiti...| FNTEU|     Cantor Fitzgerald...|      10.0|        10.1|       10.05|           0.5|          0.1|       0.05|           1|     null|2017|\n",
      "|2017-01-20|        Keane Group |  FRAC|     Citigroup/ Morgan...|      19.0|       22.18|       21.65|         13.95|         3.18|       2.65|           3|     null|2017|\n",
      "|2017-01-26|         AnaptysBio |  ANAB|     Credit Suisse/ St...|      15.0|        16.0|        17.0|         13.33|          1.0|        2.0|           2|     null|2017|\n",
      "|2017-01-26|         ObsEva SA  |  OBSV|     Credit Suisse/ Je...|      15.0|       13.29|       11.65|        -22.33|        -1.71|      -3.35|           2|   Missed|2017|\n",
      "|2017-01-27| Jagged Peak Energy |   JAG|     Citigroup/ Credit...|      15.0|       14.18|       14.33|         -4.47|        -0.82|      -0.67|           1|     null|2017|\n",
      "|2017-01-27|   JELD-WEN Holding |  JELD|     Barclays/ Citigro...|      23.0|       25.32|       26.12|         13.57|         2.32|       3.12|           3|     null|2017|\n",
      "|2017-01-27|Jounce Therapeutics |  JNCE|     J.P. Morgan/ Cowe...|      16.0|        18.0|       17.25|          7.81|          2.0|       1.25|           2|     null|2017|\n",
      "|2017-01-27|          REV Group |  REVG|     Goldman Sachs/ Mo...|      22.0|       25.75|        25.0|         13.64|         3.75|        3.0|           2|     null|2017|\n",
      "|2017-01-01|   Invitation Homes |  INVH|     Deutsche Bank Sec...|      20.0|       20.15|        20.0|           0.0|         0.15|        0.0|           2|   Missed|2017|\n",
      "|2017-01-01| Laureate Education |  LAUR|     Credit Suisse/ Mo...|      14.0|        12.5|       13.25|         -5.36|         -1.5|      -0.75|           1|     null|2017|\n",
      "|2017-01-03|Kimbell Royalty P...|   KRP|     Raymond James/ RB...|      18.0|       18.11|       20.64|         14.67|         0.11|       2.64|           1|     null|2017|\n",
      "|2017-01-03|   Ramaco Resources |  METC|     Credit Suisse/ Je...|      13.5|       14.55|       13.55|          0.37|         1.05|       0.05|           2|     null|2017|\n",
      "|2017-01-10|     Clipper Realty |  CLPR|       FBR/ Raymond James|      13.5|        15.0|        13.5|           0.0|          1.5|        0.0|           1|     null|2017|\n",
      "|2017-01-10|Foundation Buildi...|   FBM|     Deutsche Bank Sec...|      14.0|        15.8|        15.5|         10.71|          1.8|        1.5|           1|     null|2017|\n",
      "|2017-01-10|     Sachem Capital |  SACH|            Joseph Gunnar|       5.0|         4.9|        5.04|           0.8|         -0.1|       0.04|           1|     null|2017|\n",
      "|2017-01-01|      Hamilton Lane |  HLNE|     J.P. Morgan/ Morg...|      16.0|       17.85|       18.02|         12.63|         1.85|       2.02|           2|     null|2017|\n",
      "|2017-01-02|               Snap |  SNAP|     Morgan Stanley/ G...|      17.0|       23.71|       24.48|          44.0|         6.71|       7.48|           3|     null|2017|\n",
      "|2017-01-08|             J.JILL |  JILL|     BofA Merrill Lync...|      13.0|       12.85|       12.65|         -2.69|        -0.15|      -0.35|           1|     null|2017|\n",
      "|2017-01-08|       BeyondSpring |  BYSI|     Rodman & Renshaw ...|      20.0|        20.0|        16.8|         -16.0|          0.0|       -3.2|        null|  No Call|2017|\n",
      "|2017-01-10|           Presidio |  PSDO|     J.P. Morgan/ Citi...|      14.0|        13.5|       14.25|          1.79|         -0.5|       0.25|           2|   Missed|2017|\n",
      "|2017-01-10|Matlin & Partners...| MPACU|     Cantor Fitzgerald...|      10.0|        10.0|       10.01|           0.1|          0.0|       0.01|           1|     null|2017|\n",
      "|2017-01-15| Ardagh Group S.A.  |   ARD|     Citigroup/ Deutsc...|      19.0|       21.96|       22.91|         20.58|         2.96|       3.91|           1|   Missed|2017|\n",
      "|2017-01-16|Canada Goose Hold...|  GOOS|     CIBC Capital Mark...|     12.78|        18.0|       16.08|         25.82|         5.22|        3.3|           3|     null|2017|\n",
      "|2017-01-17|           MuleSoft |  MULE|     Goldman, Sachs/ J...|      17.0|       24.25|       24.75|         45.59|         7.25|       7.75|           3|     null|2017|\n",
      "|2017-01-17|   ProPetro Holding |  PUMP|     Goldman Sachs/ Ba...|      14.0|        15.0|        14.5|          3.57|          1.0|        0.5|           1|     null|2017|\n",
      "|2017-01-24|            Alteryx |   AYX|     Goldman, Sachs/ J...|      14.0|       17.25|        15.5|         10.71|         3.25|        1.5|           3|     null|2017|\n",
      "|2017-01-24|Silver Run Acquis...| SRUNU|     Citigroup/ Credit...|      10.0|       10.21|       10.36|           3.6|         0.21|       0.36|           1|     null|2017|\n",
      "|2017-01-30|Kayne Anderson Ac...| KAACU|     Citigroup/ Deutsc...|      10.0|       10.09|        10.0|           0.0|         0.09|        0.0|           1|     null|2017|\n",
      "|2017-01-05|Hess Midstream Pa...|  MESM|     Goldman, Sachs/ M...|      23.0|        25.5|        25.6|          11.3|          2.5|        2.6|           2|     null|2017|\n",
      "|2017-01-06| Schneider National |  SNDR|     Morgan Stanley/ U...|      19.0|        19.5|        19.0|           0.0|          0.5|        0.0|           2|     null|2017|\n",
      "|2017-01-06|     Elevate Credit |  ELVT|     UBS Securities/ J...|       6.5|         7.0|        7.76|         19.38|          0.5|       1.26|           1|     null|2017|\n",
      "|2017-01-07|        Forum Merger| FMCIU|         EarlyBirdCapital|      10.0|        10.0|        10.0|           0.0|          0.0|        0.0|           1|     null|2017|\n",
      "|2017-01-07|                Okta|  OKTA|     Goldman, Sachs/ J...|      17.0|        17.0|       23.56|         38.59|          0.0|       6.56|           3|     null|2017|\n",
      "|2017-01-11|          Azul S.A. |  AZUL|     Citigroup/ Itaú B...|     20.06|        21.8|        21.5|          7.18|         1.74|       1.44|           2|     null|2017|\n",
      "|2017-01-11|Vantage Energy Ac...| VEACU|     Citigroup/ Credit...|      10.0|        10.1|        10.0|           0.0|          0.1|        0.0|           1|     null|2017|\n",
      "|2017-01-12|Netshoes (Cayman)...|  NETS|     Goldman, Sachs/ J...|      18.0|       16.32|        16.1|        -10.56|        -1.68|       -1.9|           2|   Missed|2017|\n",
      "|2017-01-13|Cadence Bancorpor...|  CADE|     Goldman, Sachs/ J...|      20.0|       22.08|       21.55|          7.75|         2.08|       1.55|           2|     null|2017|\n",
      "|2017-01-13|            Tocagen |  TOCA|     Leerink Partners/...|      10.0|       10.27|       12.45|          24.5|         0.27|       2.45|           2|     null|2017|\n",
      "|2017-01-13|   Warrior Met Coal |   HCC|     Credit Suisse/ Ci...|      19.0|        17.5|        18.0|         -5.26|         -1.5|       -1.0|           2|   Missed|2017|\n",
      "|2017-01-13|                Yext|  YEXT|     Morgan Stanley/ J...|      11.0|       14.03|       13.41|         21.91|         3.03|       2.41|           3|     null|2017|\n",
      "|2017-01-21|Select Energy Ser...|  WTTR|     Credit Suisse/ FB...|      14.0|        14.9|       14.02|          0.14|          0.9|       0.02|           1|     null|2017|\n",
      "|2017-01-27|Floor & Decor Hol...|   FND|     BofA Merrill Lync...|      21.0|       30.25|       32.05|         52.62|         9.25|      11.05|           3|     null|2017|\n",
      "|2017-01-28|            Carvana |  CVNA|     Wells Fargo Secur...|      15.0|       13.71|        11.1|         -26.0|        -1.29|       -3.9|           3|   Missed|2017|\n",
      "|2017-01-28|China Rapid Finan...|   XRF|     Morgan Stanley/ C...|       6.0|        6.67|        6.67|         11.17|         0.67|       0.67|           1|     null|2017|\n",
      "|2017-01-28|           Cloudera |  CLDR|     Morgan Stanley/ J...|      15.0|       17.87|        18.1|         20.67|         2.87|        3.1|           3|     null|2017|\n",
      "|2017-01-28|Emerald Expositio...|   EEX|     BofA Merrill Lync...|      17.0|       18.73|        19.5|         14.71|         1.73|        2.5|           1|   Missed|2017|\n",
      "|2017-01-28|NCS Multistage Ho...|  NCSM|     Credit Suisse/ Ci...|      17.0|        20.0|        19.5|         14.71|          3.0|        2.5|           1|   Missed|2017|\n",
      "|2017-01-28|          Zymeworks |  ZYME|     Citigroup/ Barcla...|      13.0|        13.5|        13.0|           0.0|          0.5|        0.0|           3|   Missed|2017|\n",
      "|2017-01-04|Antero Resources ...|  AMGP|     Morgan Stanley/ B...|      23.5|       22.19|        22.0|         -6.38|        -1.31|       -1.5|           2|     null|2017|\n",
      "|2017-01-04|Biohaven Pharmace...|  BHVN|     Morgan Stanley/ P...|      17.0|       20.24|        17.5|          2.94|         3.24|        0.5|           2|     null|2017|\n",
      "|2017-01-04| UroGen Pharma Ltd. |  URGN|     Jefferies/ Cowen ...|      13.0|       13.28|       13.98|          7.54|         0.28|       0.98|           2|     null|2017|\n",
      "|2017-01-05|KKR Real Estate F...|  KREF|     Wells Fargo Secur...|      20.5|       21.01|       22.13|          7.95|         0.51|       1.63|           1|   Missed|2017|\n",
      "|2017-01-05|     Ovid Therapeut |  OVID|     Citigroup/ Cowen ...|      15.0|        14.0|       12.25|        -18.33|         -1.0|      -2.75|           1|     null|2017|\n",
      "|2017-01-05|TPG Pace Energy H...| TPGEU|     Deutsche Bank Sec...|      10.0|        10.1|       10.14|           1.4|          0.1|       0.14|           1|     null|2017|\n",
      "|2017-01-09|ENDRA Life Sciences | NDRAU|     Dougherty & Compa...|       5.0|        5.45|         5.2|           4.0|         0.45|        0.2|           1|     null|2017|\n",
      "|2017-01-09|Guaranty Bancshares |  GNTY|     Sandler O’Neill +...|      27.0|        30.0|        30.1|         11.48|          3.0|        3.1|           2|     null|2017|\n",
      "|2017-01-10|Five Point Holdings |   FPH|     Citigroup/ J.P. M...|      14.0|       15.25|       15.04|          7.43|         1.25|       1.04|           1|     null|2017|\n",
      "|2017-01-12|             A.S.V. |   ASV|     Roth Capital Part...|       7.0|        7.45|        7.85|         12.14|         0.45|       0.85|           1|     null|2017|\n",
      "|2017-01-12|Gardner Denver Ho...|   GDI|     Goldman, Sachs/ C...|      20.0|        21.2|        21.1|           5.5|          1.2|        1.1|           1|     null|2017|\n",
      "|2017-01-12|Modern Media Acqu...| MMDMU|        Macquarie Capital|      10.0|       10.09|       10.11|           1.1|         0.09|       0.11|           1|     null|2017|\n",
      "|2017-01-12|National Energy S...| NESRU|     Maxim Group/ Nati...|      10.0|        10.0|        9.99|          -0.1|          0.0|      -0.01|           1|     null|2017|\n",
      "|2017-01-12|Solaris Oilfield ...|   SOI|     Credit Suisse/ Go...|      12.0|       12.23|       11.55|         -3.75|         0.23|      -0.45|           1|     null|2017|\n",
      "|2017-01-12|           Veritone |  VERI|     Wunderlich/ Craig...|      15.0|       15.64|       13.07|        -12.87|         0.64|      -1.93|           2|     null|2017|\n",
      "|2017-01-17|    G1 Therapeutics |  GTHX|     J.P. Morgan/ Cowe...|      15.0|        15.0|        15.0|           0.0|          0.0|        0.0|           1|     null|2017|\n",
      "|2017-01-18|Bright Scholar Ed...|  BEDU|     Morgan Stanley/ D...|      10.5|       11.05|        13.4|         27.62|         0.55|        2.9|           1|     null|2017|\n",
      "|2017-01-24|SMART Global Hold...|   SGH|     Barclays/ Deutsch...|      11.0|        12.0|       13.45|         22.27|          1.0|       2.45|           1|     null|2017|\n",
      "|2017-01-25|             Appian |  APPN|     Morgan Stanley/ G...|      12.0|        15.0|       15.01|         25.08|          3.0|       3.01|           2|     null|2017|\n",
      "|2017-01-25|       WideOpenWest |   WOW|     UBS Investment Ba...|      17.0|       16.15|        16.5|         -2.94|        -0.85|       -0.5|           1|     null|2017|\n",
      "|2017-01-02|KBL Merger Corp. ...| KBLMU|       Ladenburg Thalmann|      10.0|        10.0|        10.0|           0.0|          0.0|        0.0|           1|     null|2017|\n",
      "|2017-01-07|         ShotSpotter|  SSTI|     Roth Capital Part...|      11.0|        12.2|       14.38|         30.73|          1.2|       3.38|           1|     null|2017|\n",
      "|2017-01-09|Plymouth Industri...|  PLYM|     D.A. Davidson/ BB...|      19.0|       18.31|       18.39|         -3.21|        -0.69|      -0.61|           1|     null|2017|\n",
      "|2017-01-14|            Athenex |  ATNX|     Credit Suisse/ De...|      11.0|        12.0|       12.56|         14.18|          1.0|       1.56|           2|   Missed|2017|\n",
      "|2017-01-14|            TCG BDC |  CGBD|     BofA Merrill Lync...|      18.5|        17.8|       18.11|         -2.11|         -0.7|      -0.39|           1|     null|2017|\n",
      "|2017-01-20|Bison Capital Acq...| BCACU|         EarlyBirdCapital|      10.0|        10.1|        10.7|           7.0|          0.1|        0.7|           1|     null|2017|\n",
      "|2017-01-20|Constellation Alp...| CNACU|                    Cowen|      10.0|        10.0|       10.01|           0.1|          0.0|       0.01|           1|     null|2017|\n",
      "|2017-01-22|         Altice USA |  ATUS|     J.P. Morgan/ Morg...|      30.0|        31.6|       32.71|          9.03|          1.6|       2.71|           2|     null|2017|\n",
      "|2017-01-22|Safety, Income an...|  SAFE|     BofA Merrill Lync...|      20.0|        19.0|        19.0|          -5.0|         -1.0|       -1.0|           1|     null|2017|\n",
      "|2017-01-22|          SG Blocks |  SBGX|            Joseph Gunnar|       5.0|        4.75|        4.92|          -1.6|        -0.25|      -0.08|           1|     null|2017|\n",
      "|2017-01-23|Granite Point Mor...|  GPMT|     J.P. Morgan/ Morg...|      19.5|       18.25|        19.0|         -2.56|        -1.25|       -0.5|           1|     null|2017|\n",
      "|2017-01-23|Hennessy Capital ...|HCAC.U|     Credit Suisse/ St...|      10.0|       10.04|       10.05|           0.5|         0.04|       0.05|           1|     null|2017|\n",
      "|2017-01-26|Avenue Therapeutics |  ATXI|              Oppenheimer|       6.0|         7.6|        8.25|          37.5|          1.6|       2.25|           1|   Missed|2017|\n",
      "|2017-01-26|Esquire Financial...|   ESQ|     Sandler O’Neill &...|      14.0|        15.9|       15.25|          8.93|          1.9|       1.25|           2|     null|2017|\n",
      "|2017-01-27|Mersana Therapeut...|  MRSN|     J.P. Morgan/ Cowe...|      15.0|       14.25|        14.0|         -6.67|        -0.75|       -1.0|           3|   Missed|2017|\n",
      "|2017-01-27|  TPG Pace Holdings |TPGH.U|     Deutsche Bank Sec...|      10.0|        10.2|       10.25|           2.5|          0.2|       0.25|           1|     null|2017|\n",
      "|2017-01-29|Aileron Therapeut...|  ALRN|     BofA Merrill Lync...|      15.0|       13.75|        10.8|         -28.0|        -1.25|       -4.2|           2|   Missed|2017|\n",
      "|2017-01-29|Blue Apron Holdings |  APRN|     Goldman Sachs/ Mo...|      10.0|        10.0|        10.0|           0.0|          0.0|        0.0|           1|     null|2017|\n",
      "|2017-01-29|Dova Pharmaceutic...|  DOVA|     J.P. Morgan/ Jeff...|      17.0|       19.25|       19.81|         16.53|         2.25|       2.81|           2|     null|2017|\n",
      "|2017-01-30|     Byline Bancorp |    BY|     BofA Merrill Lync...|      19.0|       20.35|       20.05|          5.53|         1.35|       1.05|           2|     null|2017|\n",
      "|2017-01-30|             Tintri |  TNTR|     Morgan Stanley/ B...|       7.0|        7.12|        7.27|          3.86|         0.12|       0.27|           1|     null|2017|\n",
      "|2017-01-12|     Co-Diagnostics |  CODX|     WallachBeth Capit...|       6.0|         6.0|        5.81|         -3.17|          0.0|      -0.19|           1|     null|2017|\n",
      "|2017-01-14| Akcea Therapeutics |  AKCA|     Cowen and Company...|       8.0|        8.13|        9.48|          18.5|         0.13|       1.48|           1|     null|2017|\n",
      "|2017-01-19|Federal Street Ac...| FSACU|     Citigroup/ BofA M...|      10.0|       10.06|        10.1|           1.0|         0.06|        0.1|           1|     null|2017|\n",
      "|2017-01-20|             Calyxt |  CLXT|     Citigroup/ Credit...|       8.0|         9.5|       11.25|         40.63|          1.5|       3.25|           1|     null|2017|\n",
      "|2017-01-20|Kala Pharmaceutic...|  KALA|     J.P. Morgan/ BofA...|      15.0|        16.7|       18.62|         24.13|          1.7|       3.62|           2|     null|2017|\n",
      "|2017-01-20|TPG RE Finance Tr...|  TRTX|     BofA Merrill Lync...|      20.0|       19.58|       19.58|          -2.1|        -0.42|      -0.42|           1|     null|2017|\n",
      "|2017-01-21|              PetIQ |  PETQ|     Jefferies/ Willia...|      16.0|        21.0|       23.25|         45.31|          5.0|       7.25|           1|   Missed|2017|\n",
      "|2017-01-26|        RBB Bancorp |   RBB|     Sandler O’Neill/ ...|      23.0|       23.32|       23.35|          1.52|         0.32|       0.35|           2|     null|2017|\n",
      "|2017-01-27|Industrea Acquisi...| INDUU|      FBR/ B. Riley & Co.|      10.0|       10.02|       10.02|           0.2|         0.02|       0.02|           1|     null|2017|\n",
      "|2017-01-27|Pensare Acquisition | WRLSU|         EarlyBirdCapital|      10.0|       10.05|       10.04|           0.4|         0.05|       0.04|           1|     null|2017|\n",
      "|2017-01-27|Sienna Biopharmac...|  SNNA|     J.P. Morgan/ Cowe...|      15.0|       19.05|       19.25|         28.33|         4.05|       4.25|           2|     null|2017|\n",
      "|2017-01-28| Newater Technology |  NEWA|     ViewTrade Securities|       5.0|        7.32|        8.93|          78.6|         2.32|       3.93|        null|  No Call|2017|\n",
      "|2017-01-28|             Redfin |  RDFN|     Goldman Sachs/ Al...|      15.0|       19.56|        21.7|         44.67|         4.56|        6.7|           3|     null|2017|\n",
      "|2017-01-02|Clementia Pharmac...|  CMTA|     Morgan Stanley/ L...|      15.0|       18.25|       16.35|           9.0|         3.25|       1.35|           3|     null|2017|\n",
      "|2017-01-03|Venator Materials...|  VNTR|     Citigroup/ Goldma...|      20.0|       20.89|       20.65|          3.25|         0.89|       0.65|           1|     null|2017|\n",
      "|2017-01-11|Ranger Energy Ser...|  RNGR|     Credit Suisse/ Si...|      14.5|        14.0|       14.22|         -1.93|         -0.5|      -0.28|           2|   Missed|2017|\n",
      "|2017-01-11|          YogaWorks |  YOGA|     Cowen/ Stephens/ ...|       5.5|         5.5|        4.85|        -11.82|          0.0|      -0.65|           2|   Missed|2017|\n",
      "|2016-01-03|      BeiGene, Ltd. |  BGNE|     Goldman Sachs/ Mo...|      24.0|       28.97|       28.32|          18.0|         4.97|       4.32|           3|     null|2016|\n",
      "|2016-01-03|    Editas Medicine |  EDIT|     Morgan Stanley/ J...|      16.0|        18.0|        18.2|         13.75|          2.0|        2.2|           2|     null|2016|\n",
      "|2016-01-11|             AveXis |  AVXS|     Goldman Sachs/ Je...|      20.0|       18.02|       18.05|         -9.75|        -1.98|      -1.95|           2|   Missed|2016|\n",
      "|2016-01-11|Proteostasis Ther...|   PTI|     Leerink Partners/...|       8.0|         8.0|        6.64|         -17.0|          0.0|      -1.36|           1|     null|2016|\n",
      "|2016-01-24|Silver Run Acquis...| SRAQU|     Deutsche Bank Sec...|      10.0|       10.01|       10.21|           2.1|         0.01|       0.21|           1|     null|2016|\n",
      "|2016-01-03| Jensyn Acquisition | JSYNU|     Chardan Capital M...|      10.0|        9.95|        9.95|          -0.5|        -0.05|      -0.05|           1|     null|2016|\n",
      "|2016-01-22|Corvus Pharmaceut...|  CRVS|     Credit Suisse/ Co...|      15.0|        15.0|       14.25|          -5.0|          0.0|      -0.75|           1|     null|2016|\n",
      "|2016-01-07|Aeglea BioTherape...|  AGLE|     UBS Investment Ba...|      10.0|        10.4|        9.77|          -2.3|          0.4|      -0.23|           1|     null|2016|\n",
      "|2016-01-15|Bats Global Markets |  BATS|     Morgan Stanley/ C...|      19.0|       22.88|        23.0|         21.05|         3.88|        4.0|           3|     null|2016|\n",
      "|2016-01-20|MGM Growth Proper...|   MGP|     BofA Merrill Lync...|      21.0|       22.75|       22.01|          4.81|         1.75|       1.01|           2|     null|2016|\n",
      "|2016-01-21|American Renal As...|   ARA|     BofA Merrill Lync...|      22.0|        26.5|        26.5|         20.45|          4.5|        4.5|           2|     null|2016|\n",
      "|2016-01-22|        SecureWorks |  SCWX|     BofA Merrill Lync...|      14.0|       13.91|        14.0|           0.0|        -0.09|        0.0|           1|     null|2016|\n",
      "|2016-01-27|   Red Rock Resorts |   RRR|     Deutsche Bank Sec...|      19.5|        18.5|        18.7|          -4.1|         -1.0|       -0.8|           1|     null|2016|\n",
      "|2016-01-27|Yintech Investmen...|   YIN|                Jefferies|      13.5|        13.8|        13.5|           0.0|          0.3|        0.0|           1|     null|2016|\n",
      "|2016-01-06|Intellia Therapeu...|  NTLA|     Credit Suisse/ Je...|      18.0|        22.0|        22.1|         22.78|          4.0|        4.1|           3|     null|2016|\n",
      "|2016-01-06|Spring Bank Pharm...|  SBPH|     Dawson James Secu...|      12.0|       11.28|        11.1|          -7.5|        -0.72|       -0.9|           1|     null|2016|\n",
      "|2016-01-12|SiteOne Landscape...|  SITE|     Deutsche Bank Sec...|      21.0|        25.9|       26.67|          27.0|          4.9|       5.67|           1|   Missed|2016|\n",
      "|2016-01-13|Acacia Communicat...|  ACIA|     Goldman Sachs/ Bo...|      23.0|        29.0|       30.95|         34.57|          6.0|       7.95|           3|     null|2016|\n",
      "|2016-01-13|      Oncobiologics | ONSIU|      Jefferies/ Barclays|       6.0|        5.12|         4.8|         -20.0|        -0.88|       -1.2|           1|     null|2016|\n",
      "|2016-01-18|            PhaseRx |  PZRX|     Laidlaw & Company...|       4.0|        4.13|        4.17|          4.25|         0.13|       0.17|           1|     null|2016|\n",
      "|2016-01-19|Grupo Supervielle...|  SUPV|     Morgan Stanley/ B...|      11.0|        11.5|        11.5|          4.55|          0.5|        0.5|           1|     null|2016|\n",
      "|2016-01-19|         Merus B.V. |  MRUS|     Citigroup/ Jefferies|      10.0|        9.75|       10.04|           0.4|        -0.25|       0.04|           1|     null|2016|\n",
      "|2016-01-20|     CF Corporation | CFCOU|     Citigroup/ BofA M...|      10.0|       10.04|        9.99|          -0.1|         0.04|      -0.01|           1|     null|2016|\n",
      "|2016-01-24|Midland States Ba...|  MSBI|     Sandler O'Neill +...|      22.0|       22.06|        21.9|         -0.45|         0.06|       -0.1|           1|     null|2016|\n",
      "|2016-01-26|  Cotiviti Holdings |  COTV|     Goldman Sachs/ J....|      19.0|        19.5|       17.11|         -9.95|          0.5|      -1.89|           3|   Missed|2016|\n",
      "|2016-01-26|                 GMS|   GMS|     Barclays/ Credit ...|      21.0|        22.5|       21.91|          4.33|          1.5|       0.91|           1|     null|2016|\n",
      "|2016-01-26| Landcadia Holdings | LCAHU|     Jefferies/ Deutsc...|      10.0|        10.0|        10.0|           0.0|          0.0|        0.0|           2|     null|2016|\n",
      "|2016-01-26|Reata Pharmaceuti...|  RETA|     Citigroup/ Cowen ...|      11.0|       11.06|        13.7|         24.55|         0.06|        2.7|           1|     null|2016|\n",
      "|2016-01-26|   US Foods Holding |  USFD|     Goldman Sachs/ Mo...|      23.0|       24.25|       24.91|           8.3|         1.25|       1.91|           2|     null|2016|\n",
      "|2016-01-02|Clearside Biomedi...|  CLSD|     Cowen and Company...|       7.0|         8.0|        7.25|          3.57|          1.0|       0.25|           1|     null|2016|\n",
      "|2016-01-02|        Nant Health |    NH|     Jefferies/ Cowen ...|      14.0|       16.11|       18.59|         32.79|         2.11|       4.59|           1|   Missed|2016|\n",
      "|2016-01-03|  Sensus Healthcare | SRTSU|     Northland Capital...|      23.0|       23.25|       24.91|           8.3|         0.25|       1.91|           1|     null|2016|\n",
      "|2016-01-10|Atkore Internatio...|  ATKR|     Credit Suisse/ De...|      16.0|       15.75|        16.0|           0.0|        -0.25|        0.0|           1|     null|2016|\n",
      "|2016-01-10|China Online Educ...|   COE|     Morgan Stanley/ C...|      19.0|        19.5|       18.98|         -0.11|          0.5|      -0.02|           1|     null|2016|\n",
      "+----------+--------------------+------+-------------------------+----------+------------+------------+--------------+-------------+-----------+------------+---------+----+\n",
      "only showing top 140 rows\n",
      "\n"
     ]
    }
   ],
   "source": [
    "data.show(140)"
   ]
  },
  {
   "cell_type": "code",
   "execution_count": 14,
   "metadata": {
    "scrolled": true
   },
   "outputs": [
    {
     "data": {
      "text/plain": [
       "<matplotlib.axes._subplots.AxesSubplot at 0x7f4da664a160>"
      ]
     },
     "execution_count": 14,
     "metadata": {},
     "output_type": "execute_result"
    },
    {
     "data": {
      "image/png": "[encoded data removed]",
      "text/plain": [
       "<matplotlib.figure.Figure at 0x7f4dae6a4940>"
      ]
     },
     "metadata": {},
     "output_type": "display_data"
    }
   ],
   "source": [
    "pdData = data.groupBy(data['Year']).mean('1_Day_perChnge').orderBy('Year').toPandas()\n",
    "pdData.dropna(inplace=True)\n",
    "pdData.set_index(keys='Year', inplace=True)\n",
    "pdData.plot(kind = 'bar', figsize = (15,10), title = '1st Day Per Change', fontsize=20)"
   ]
  },
  {
   "cell_type": "code",
   "execution_count": 15,
   "metadata": {
    "scrolled": true
   },
   "outputs": [
    {
     "name": "stdout",
     "output_type": "stream",
     "text": [
      "+-------+------------------+\n",
      "|summary|    1_Day_perChnge|\n",
      "+-------+------------------+\n",
      "|  count|              2885|\n",
      "|   mean|13.006758228490256|\n",
      "| stddev|27.435829973069115|\n",
      "|    min|            -35.22|\n",
      "|    max|            353.85|\n",
      "+-------+------------------+\n",
      "\n"
     ]
    }
   ],
   "source": [
    "data.select('1_Day_perChnge').describe().show()"
   ]
  },
  {
   "cell_type": "code",
   "execution_count": 16,
   "metadata": {
    "scrolled": true
   },
   "outputs": [
    {
     "data": {
      "text/plain": [
       "array([[<matplotlib.axes._subplots.AxesSubplot object at 0x7f4da6681dd8>]], dtype=object)"
      ]
     },
     "execution_count": 16,
     "metadata": {},
     "output_type": "execute_result"
    },
    {
     "data": {
      "image/png": "[encoded data removed]",
      "text/plain": [
       "<matplotlib.figure.Figure at 0x7f4da660a588>"
      ]
     },
     "metadata": {},
     "output_type": "display_data"
    }
   ],
   "source": [
    "data.select('1_Day_perChnge').toPandas().hist(figsize=(15,7), bins=100, color='grey')"
   ]
  },
  {
   "cell_type": "code",
   "execution_count": 17,
   "metadata": {
    "scrolled": true
   },
   "outputs": [
    {
     "name": "stdout",
     "output_type": "stream",
     "text": [
      "+----------+--------------------+------+-------------------------+----------+------------+------------+--------------+-------------+-----------+------------+---------+----+----------------+-------------------+\n",
      "|      date|              Issuer|Symbol|Lead/Joint-Lead  Managers|OfferPrice|OpeningPrice|1st_DayClose|1_Day_perChnge|ChangeOpening|ChangeClose|Star_Ratings|Performed|Year|chngeOpentoClose|       percentChnge|\n",
      "+----------+--------------------+------+-------------------------+----------+------------+------------+--------------+-------------+-----------+------------+---------+----+----------------+-------------------+\n",
      "|2017-01-20|FinTech Acquisiti...| FNTEU|     Cantor Fitzgerald...|      10.0|        10.1|       10.05|           0.5|          0.1|       0.05|           1|     null|2017|           -0.05|-0.4950494936296446|\n",
      "|2017-01-20|        Keane Group |  FRAC|     Citigroup/ Morgan...|      19.0|       22.18|       21.65|         13.95|         3.18|       2.65|           3|     null|2017|           -0.53|-2.3895399643709343|\n",
      "|2017-01-26|         AnaptysBio |  ANAB|     Credit Suisse/ St...|      15.0|        16.0|        17.0|         13.33|          1.0|        2.0|           2|     null|2017|             1.0|               6.25|\n",
      "|2017-01-26|         ObsEva SA  |  OBSV|     Credit Suisse/ Je...|      15.0|       13.29|       11.65|        -22.33|        -1.71|      -3.35|           2|   Missed|2017|      -1.6399999| -12.34010437316006|\n",
      "|2017-01-27| Jagged Peak Energy |   JAG|     Citigroup/ Credit...|      15.0|       14.18|       14.33|         -4.47|        -0.82|      -0.67|           1|     null|2017|      0.14999998| 1.0578277357539352|\n",
      "|2017-01-27|   JELD-WEN Holding |  JELD|     Barclays/ Citigro...|      23.0|       25.32|       26.12|         13.57|         2.32|       3.12|           3|     null|2017|      0.79999995|  3.159557511684394|\n",
      "|2017-01-27|Jounce Therapeutics |  JNCE|     J.P. Morgan/ Cowe...|      16.0|        18.0|       17.25|          7.81|          2.0|       1.25|           2|     null|2017|           -0.75| -4.166666666666666|\n",
      "|2017-01-27|          REV Group |  REVG|     Goldman Sachs/ Mo...|      22.0|       25.75|        25.0|         13.64|         3.75|        3.0|           2|     null|2017|           -0.75| -2.912621359223301|\n",
      "|2017-01-01|   Invitation Homes |  INVH|     Deutsche Bank Sec...|      20.0|       20.15|        20.0|           0.0|         0.15|        0.0|           2|   Missed|2017|           -0.15|-0.7444169171225293|\n",
      "|2017-01-01| Laureate Education |  LAUR|     Credit Suisse/ Mo...|      14.0|        12.5|       13.25|         -5.36|         -1.5|      -0.75|           1|     null|2017|            0.75|                6.0|\n",
      "|2017-01-03|Kimbell Royalty P...|   KRP|     Raymond James/ RB...|      18.0|       18.11|       20.64|         14.67|         0.11|       2.64|           1|     null|2017|       2.5300002| 13.970182907460629|\n",
      "|2017-01-03|   Ramaco Resources |  METC|     Credit Suisse/ Je...|      13.5|       14.55|       13.55|          0.37|         1.05|       0.05|           2|     null|2017|     -0.99999994|  -6.87285173392736|\n",
      "|2017-01-10|     Clipper Realty |  CLPR|       FBR/ Raymond James|      13.5|        15.0|        13.5|           0.0|          1.5|        0.0|           1|     null|2017|            -1.5|              -10.0|\n",
      "|2017-01-10|Foundation Buildi...|   FBM|     Deutsche Bank Sec...|      14.0|        15.8|        15.5|         10.71|          1.8|        1.5|           1|     null|2017|     -0.29999995|-1.8987338524983342|\n",
      "|2017-01-10|     Sachem Capital |  SACH|            Joseph Gunnar|       5.0|         4.9|        5.04|           0.8|         -0.1|       0.04|           1|     null|2017|            0.14|  2.857142813699239|\n",
      "|2017-01-01|      Hamilton Lane |  HLNE|     J.P. Morgan/ Morg...|      16.0|       17.85|       18.02|         12.63|         1.85|       2.02|           2|     null|2017|      0.16999996|  0.952380691605668|\n",
      "|2017-01-02|               Snap |  SNAP|     Morgan Stanley/ G...|      17.0|       23.71|       24.48|          44.0|         6.71|       7.48|           3|     null|2017|            0.77|  3.247574907882539|\n",
      "|2017-01-08|             J.JILL |  JILL|     BofA Merrill Lync...|      13.0|       12.85|       12.65|         -2.69|        -0.15|      -0.35|           1|     null|2017|     -0.19999999|-1.5564200944887125|\n",
      "|2017-01-08|       BeyondSpring |  BYSI|     Rodman & Renshaw ...|      20.0|        20.0|        16.8|         -16.0|          0.0|       -3.2|        null|  No Call|2017|            -3.2| -16.00000023841858|\n",
      "|2017-01-10|           Presidio |  PSDO|     J.P. Morgan/ Citi...|      14.0|        13.5|       14.25|          1.79|         -0.5|       0.25|           2|   Missed|2017|            0.75|  5.555555555555555|\n",
      "+----------+--------------------+------+-------------------------+----------+------------+------------+--------------+-------------+-----------+------------+---------+----+----------------+-------------------+\n",
      "only showing top 20 rows\n",
      "\n"
     ]
    }
   ],
   "source": [
    "data = data.withColumn('chngeOpentoClose', data['ChangeClose']-data['ChangeOpening'])\n",
    "data = data.withColumn('percentChnge', data['chngeOpentoClose']/data['OpeningPrice']*100)\n",
    "data.show()"
   ]
  },
  {
   "cell_type": "code",
   "execution_count": 18,
   "metadata": {
    "scrolled": true
   },
   "outputs": [
    {
     "name": "stdout",
     "output_type": "stream",
     "text": [
      "+-------+------------------+\n",
      "|summary|      percentChnge|\n",
      "+-------+------------------+\n",
      "|  count|              2885|\n",
      "|   mean|1.3226170777349027|\n",
      "| stddev|10.858205546142765|\n",
      "|    min| -98.5221650191643|\n",
      "|    max| 159.4174735167888|\n",
      "+-------+------------------+\n",
      "\n"
     ]
    }
   ],
   "source": [
    "data.select('percentChnge').describe().show()"
   ]
  },
  {
   "cell_type": "code",
   "execution_count": 19,
   "metadata": {
    "scrolled": true
   },
   "outputs": [
    {
     "data": {
      "text/plain": [
       "array([[<matplotlib.axes._subplots.AxesSubplot object at 0x7f4da645d8d0>]], dtype=object)"
      ]
     },
     "execution_count": 19,
     "metadata": {},
     "output_type": "execute_result"
    },
    {
     "data": {
      "image/png": "[encoded data removed]",
      "text/plain": [
       "<matplotlib.figure.Figure at 0x7f4da64cf5c0>"
      ]
     },
     "metadata": {},
     "output_type": "display_data"
    }
   ],
   "source": [
    "data.select('percentChnge').toPandas().hist(figsize=(15,7), bins=100, color='grey')"
   ]
  },
  {
   "cell_type": "markdown",
   "metadata": {},
   "source": [
    "**Feature Engineering**"
   ]
  },
  {
   "cell_type": "code",
   "execution_count": 20,
   "metadata": {
    "collapsed": true,
    "scrolled": true
   },
   "outputs": [],
   "source": [
    "import pandas as pd\n",
    "sp = pd.read_csv('spy.csv', encoding = 'latin')\n",
    "sp.sort_values('Date', inplace=True)\n",
    "sp.reset_index(drop=True, inplace = True)"
   ]
  },
  {
   "cell_type": "code",
   "execution_count": 21,
   "metadata": {
    "scrolled": true
   },
   "outputs": [
    {
     "data": {
      "text/html": [
       "<div>\n",
       "<style>\n",
       "    .dataframe thead tr:only-child th {\n",
       "        text-align: right;\n",
       "    }\n",
       "\n",
       "    .dataframe thead th {\n",
       "        text-align: left;\n",
       "    }\n",
       "\n",
       "    .dataframe tbody tr th {\n",
       "        vertical-align: top;\n",
       "    }\n",
       "</style>\n",
       "<table border=\"1\" class=\"dataframe\">\n",
       "  <thead>\n",
       "    <tr style=\"text-align: right;\">\n",
       "      <th></th>\n",
       "      <th>Date</th>\n",
       "      <th>Open</th>\n",
       "      <th>High</th>\n",
       "      <th>Low</th>\n",
       "      <th>Close</th>\n",
       "      <th>Volume</th>\n",
       "      <th>Adj Close</th>\n",
       "    </tr>\n",
       "  </thead>\n",
       "  <tbody>\n",
       "    <tr>\n",
       "      <th>0</th>\n",
       "      <td>2010-01-04</td>\n",
       "      <td>112.370003</td>\n",
       "      <td>113.389999</td>\n",
       "      <td>111.510002</td>\n",
       "      <td>113.330002</td>\n",
       "      <td>118944600</td>\n",
       "      <td>100.323436</td>\n",
       "    </tr>\n",
       "    <tr>\n",
       "      <th>1</th>\n",
       "      <td>2010-01-05</td>\n",
       "      <td>113.260002</td>\n",
       "      <td>113.680000</td>\n",
       "      <td>112.849998</td>\n",
       "      <td>113.629997</td>\n",
       "      <td>111579900</td>\n",
       "      <td>100.589001</td>\n",
       "    </tr>\n",
       "    <tr>\n",
       "      <th>2</th>\n",
       "      <td>2010-01-06</td>\n",
       "      <td>113.519997</td>\n",
       "      <td>113.989998</td>\n",
       "      <td>113.430000</td>\n",
       "      <td>113.709999</td>\n",
       "      <td>116074400</td>\n",
       "      <td>100.659822</td>\n",
       "    </tr>\n",
       "    <tr>\n",
       "      <th>3</th>\n",
       "      <td>2010-01-07</td>\n",
       "      <td>113.500000</td>\n",
       "      <td>114.330002</td>\n",
       "      <td>113.180000</td>\n",
       "      <td>114.190002</td>\n",
       "      <td>131091100</td>\n",
       "      <td>101.084736</td>\n",
       "    </tr>\n",
       "    <tr>\n",
       "      <th>4</th>\n",
       "      <td>2010-01-08</td>\n",
       "      <td>113.889999</td>\n",
       "      <td>114.620003</td>\n",
       "      <td>113.660004</td>\n",
       "      <td>114.570000</td>\n",
       "      <td>126402800</td>\n",
       "      <td>101.421122</td>\n",
       "    </tr>\n",
       "  </tbody>\n",
       "</table>\n",
       "</div>"
      ],
      "text/plain": [
       "         Date        Open        High         Low       Close     Volume  \\\n",
       "0  2010-01-04  112.370003  113.389999  111.510002  113.330002  118944600   \n",
       "1  2010-01-05  113.260002  113.680000  112.849998  113.629997  111579900   \n",
       "2  2010-01-06  113.519997  113.989998  113.430000  113.709999  116074400   \n",
       "3  2010-01-07  113.500000  114.330002  113.180000  114.190002  131091100   \n",
       "4  2010-01-08  113.889999  114.620003  113.660004  114.570000  126402800   \n",
       "\n",
       "    Adj Close  \n",
       "0  100.323436  \n",
       "1  100.589001  \n",
       "2  100.659822  \n",
       "3  101.084736  \n",
       "4  101.421122  "
      ]
     },
     "execution_count": 21,
     "metadata": {},
     "output_type": "execute_result"
    }
   ],
   "source": [
    "sp.head()"
   ]
  },
  {
   "cell_type": "code",
   "execution_count": 49,
   "metadata": {
    "collapsed": true
   },
   "outputs": [],
   "source": [
    "# Method to find weekly change\n",
    "def weeklyChange(ipos):\n",
    "    try:\n",
    "        dayAgoIndex = sp[sp['Date'] == str(ipos)].index[0] - 1     #yesterday's data\n",
    "        weekAgoIndex = sp[sp['Date'] == str(ipos)].index[0] - 8    #week's before data\n",
    "        change = (sp.iloc[dayAgoIndex]['Close'] - sp.iloc[weekAgoIndex]['Close']) / sp.iloc[weekAgoIndex]['Close']\n",
    "        return change * 100\n",
    "    except:\n",
    "        print(\"error : \", ipos)"
   ]
  },
  {
   "cell_type": "code",
   "execution_count": 50,
   "metadata": {
    "collapsed": true
   },
   "outputs": [],
   "source": [
    "week_change = udf(weeklyChange, FloatType())\n",
    "data = data.withColumn(\"SP Week Change\", week_change(data['date']))"
   ]
  },
  {
   "cell_type": "code",
   "execution_count": 51,
   "metadata": {
    "collapsed": true
   },
   "outputs": [],
   "source": [
    "def add_lead_mgr(x):\n",
    "    try:\n",
    "        return x.split('/')[0]\n",
    "    except:\n",
    "        print('error', x)\n",
    "        \n",
    "lead_mgr_udf = udf(add_lead_mgr, StringType())\n",
    "\n",
    "data = data.withColumn(\"Lead Mgr\", lead_mgr_udf(data['Lead/Joint-Lead  Managers']))"
   ]
  },
  {
   "cell_type": "code",
   "execution_count": 52,
   "metadata": {
    "scrolled": true
   },
   "outputs": [
    {
     "data": {
      "text/plain": [
       "['date',\n",
       " 'Issuer',\n",
       " 'Symbol',\n",
       " 'Lead/Joint-Lead  Managers',\n",
       " 'OfferPrice',\n",
       " 'OpeningPrice',\n",
       " '1st_DayClose',\n",
       " '1_Day_perChnge',\n",
       " 'ChangeOpening',\n",
       " 'ChangeClose',\n",
       " 'Star_Ratings',\n",
       " 'Performed',\n",
       " 'Year',\n",
       " 'chngeOpentoClose',\n",
       " 'percentChnge',\n",
       " 'SP Week Change',\n",
       " 'Lead Mgr',\n",
       " 'Total Underwriters',\n",
       " 'Day',\n",
       " 'Month',\n",
       " 'Gap Open Pct',\n",
       " 'labels']"
      ]
     },
     "execution_count": 52,
     "metadata": {},
     "output_type": "execute_result"
    }
   ],
   "source": [
    "data.columns"
   ]
  },
  {
   "cell_type": "code",
   "execution_count": 53,
   "metadata": {
    "scrolled": true
   },
   "outputs": [
    {
     "name": "stdout",
     "output_type": "stream",
     "text": [
      "+--------------------------------------------------+\n",
      "|Lead Mgr                                          |\n",
      "+--------------------------------------------------+\n",
      "|Cantor Fitzgerald & Co.                           |\n",
      "|Citigroup                                         |\n",
      "|Credit Suisse                                     |\n",
      "|Credit Suisse                                     |\n",
      "|Citigroup                                         |\n",
      "|Barclays                                          |\n",
      "|J.P. Morgan                                       |\n",
      "|Goldman Sachs                                     |\n",
      "|Deutsche Bank Securities                          |\n",
      "|Credit Suisse                                     |\n",
      "|Raymond James                                     |\n",
      "|Credit Suisse                                     |\n",
      "|FBR                                               |\n",
      "|Deutsche Bank Securities                          |\n",
      "|Joseph Gunnar                                     |\n",
      "|J.P. Morgan                                       |\n",
      "|Morgan Stanley                                    |\n",
      "|BofA Merrill Lynch                                |\n",
      "|Rodman & Renshaw (a Unit of H.C. Wainwright & Co.)|\n",
      "|J.P. Morgan                                       |\n",
      "+--------------------------------------------------+\n",
      "only showing top 20 rows\n",
      "\n"
     ]
    }
   ],
   "source": [
    "data.select('Lead Mgr').show(truncate=False)"
   ]
  },
  {
   "cell_type": "code",
   "execution_count": 54,
   "metadata": {
    "collapsed": true
   },
   "outputs": [],
   "source": [
    "dict={\n",
    "    'Hambrecht':'WR Hambrecht+Co.',\n",
    "    'Edwards':'AG Edwards',\n",
    "    'Edwrads':'AG Edwards',\n",
    "    'Barclay':'Barclays',\n",
    "    'Aegis':'Aegis Capital',\n",
    "    'Deutsche':'Deutsche Bank',\n",
    "    'Suisse':'CSFB',\n",
    "    'CS.?F':'CSFB',\n",
    "    '^Early':'EarlyBirdCapital',\n",
    "    'Keefe':'Keefe, Bruyette & Woods',\n",
    "    'Stan':'Morgan Stanley',\n",
    "    'P. Morg':'JP Morgan',\n",
    "    'PM':'JP Morgan',\n",
    "    'J\\.P\\.':'JP Morgan',\n",
    "    'Banc of':'Banc of America',\n",
    "    'Lych':'BofA Merrill Lynch',\n",
    "    'Merrill$':'Merrill Lynch',\n",
    "    'Lymch':'Merrill Lynch',\n",
    "    'A Merril Lynch':'BofA Merrill Lynch',\n",
    "    'Merril ':'Merrill Lynch',\n",
    "    'BofA$':'BofA Merrill Lynch',\n",
    "    'SANDLER':'Sandler O\\'neil + Partners',\n",
    "    'Sandler':'Sandler O\\'Neil + Partners',\n",
    "    'Renshaw':'Rodman & Renshaw',\n",
    "    'Baird':'RW Baird',\n",
    "    'Cantor':'Cantor Fitzgerald',\n",
    "    'Goldman':'Goldman Sachs',\n",
    "    'Bear':'Bear Stearns',\n",
    "    'BoA':'BofA Merrill Lynch',\n",
    "    'Broadband':'Broadband Capital',\n",
    "    'Davidson':'DA Davidson',\n",
    "    'Feltl':'Feltl & Co.',\n",
    "    'China':'China International',\n",
    "    'Cit':'Citigroup',\n",
    "    'Ferris':'Ferris Baker Watts',\n",
    "    'Friedman|Freidman|FBR':'Friedman Billings Ramsey',\n",
    "    '^I-':'I-Bankers',\n",
    "    'Gunn':'Gunn Allen',\n",
    "    'Jeffer':'Jefferies',\n",
    "    'Oppen':'Oppenheimer',\n",
    "    'JMP':'JMP Securities',\n",
    "    'Rice':'Johnson Rice',\n",
    "    'Ladenburg':'Ladenburg Thalmann',\n",
    "    'Piper':'Piper Jaffray',\n",
    "    'Pali':'Pali Capital',\n",
    "    'Paulson':'Paulson Investment Co.',\n",
    "    'Roth':'Roth Capital',\n",
    "    'Stifel':'Stifel Nicolaus',\n",
    "    'SunTrust':'SunTrust Robinson',\n",
    "    'Wachovia':'Wachovia',\n",
    "    'Wedbush':'Wedbush Morgan',\n",
    "    'Blair':'William Blair',\n",
    "    'Wunderlich':'Wunderlich',\n",
    "    'Max':'Maxim Group',\n",
    "    'CIBC':'CIBC',\n",
    "    'CRT':'CRT Capital',\n",
    "    'HCF':'HCFP Brenner',\n",
    "    'Cohen':'Cohen & Co.',\n",
    "    'Cowen':'Cowen & Co.',\n",
    "    'Leerink':'Leerink Partners',\n",
    "    'Lynch\\xca':'Merrill Lynch',\n",
    "    'Sandler O’Neill + Partners, L.P.':\"Sandler O'Neil + Partners\",\n",
    "    ' J.P. Morgan':'J.P. Morgan'\n",
    "}"
   ]
  },
  {
   "cell_type": "code",
   "execution_count": 55,
   "metadata": {
    "scrolled": true
   },
   "outputs": [
    {
     "name": "stdout",
     "output_type": "stream",
     "text": [
      "+--------------------+\n",
      "|            Lead Mgr|\n",
      "+--------------------+\n",
      "|Cantor Fitzgerald...|\n",
      "|           Citigroup|\n",
      "|       Credit Suisse|\n",
      "|       Credit Suisse|\n",
      "|           Citigroup|\n",
      "|            Barclays|\n",
      "|         J.P. Morgan|\n",
      "|       Goldman Sachs|\n",
      "|Deutsche Bank Sec...|\n",
      "|       Credit Suisse|\n",
      "|       Raymond James|\n",
      "|       Credit Suisse|\n",
      "|                 FBR|\n",
      "|Deutsche Bank Sec...|\n",
      "|       Joseph Gunnar|\n",
      "|         J.P. Morgan|\n",
      "|      Morgan Stanley|\n",
      "|  BofA Merrill Lynch|\n",
      "|Rodman & Renshaw ...|\n",
      "|         J.P. Morgan|\n",
      "+--------------------+\n",
      "only showing top 20 rows\n",
      "\n"
     ]
    }
   ],
   "source": [
    "def manager(row):\n",
    "    if row in dict:\n",
    "        print(dict[row])\n",
    "        return dict[row]\n",
    "    else:        \n",
    "        return row\n",
    "    \n",
    "manager_udf = udf(manager, StringType())\n",
    "data = data.withColumn(\"Lead Mgr\", manager_udf(data['Lead Mgr']))\n",
    "data.select(['Lead Mgr']).show()"
   ]
  },
  {
   "cell_type": "code",
   "execution_count": 56,
   "metadata": {},
   "outputs": [
    {
     "name": "stdout",
     "output_type": "stream",
     "text": [
      "+--------------------+\n",
      "|            Lead Mgr|\n",
      "+--------------------+\n",
      "|                null|\n",
      "|      Morgan Stanley|\n",
      "| Deutsche Bank Se...|\n",
      "|       Raymond James|\n",
      "|        A.G. Edwards|\n",
      "| A.G. Edwards & Sons|\n",
      "| A.G. Edwrads & Sons|\n",
      "|          AG Edwards|\n",
      "|   AG Edwards & Sons|\n",
      "|          AG Edwrads|\n",
      "|      Adams Harkness|\n",
      "|              Advest|\n",
      "|       Aegis Capital|\n",
      "|      Aegis Capital |\n",
      "|  Aegis Capital Corp|\n",
      "| Aegis Capital Corp.|\n",
      "|Anderson & Strudrick|\n",
      "|Axiom Capital Man...|\n",
      "|BB&T Capital Markets|\n",
      "|                BBVA|\n",
      "+--------------------+\n",
      "only showing top 20 rows\n",
      "\n"
     ]
    }
   ],
   "source": [
    "data.select('Lead Mgr').distinct().orderBy('Lead Mgr').select('Lead Mgr').show()"
   ]
  },
  {
   "cell_type": "code",
   "execution_count": 57,
   "metadata": {},
   "outputs": [
    {
     "name": "stdout",
     "output_type": "stream",
     "text": [
      "+------------------+\n",
      "|Total Underwriters|\n",
      "+------------------+\n",
      "|                 1|\n",
      "|                 4|\n",
      "|                 2|\n",
      "|                 3|\n",
      "|                 3|\n",
      "|                 4|\n",
      "|                 2|\n",
      "|                 3|\n",
      "|                 8|\n",
      "|                 9|\n",
      "|                 3|\n",
      "|                 3|\n",
      "|                 2|\n",
      "|                 5|\n",
      "|                 1|\n",
      "|                 2|\n",
      "|                 4|\n",
      "|                 3|\n",
      "|                 1|\n",
      "|                 2|\n",
      "+------------------+\n",
      "only showing top 20 rows\n",
      "\n"
     ]
    }
   ],
   "source": [
    "def under_writers(x):\n",
    "    try:\n",
    "        return len(x.split('/'))\n",
    "    except:\n",
    "        print('error', x)\n",
    "        \n",
    "under_writers_udf = udf(under_writers, StringType())\n",
    "data = data.withColumn(\"Total Underwriters\", under_writers_udf(data['Lead/Joint-Lead  Managers']).cast(IntegerType()))\n",
    "data.select('Total Underwriters').show()"
   ]
  },
  {
   "cell_type": "code",
   "execution_count": 58,
   "metadata": {
    "scrolled": true
   },
   "outputs": [
    {
     "data": {
      "text/plain": [
       "['date',\n",
       " 'Issuer',\n",
       " 'Symbol',\n",
       " 'Lead/Joint-Lead  Managers',\n",
       " 'OfferPrice',\n",
       " 'OpeningPrice',\n",
       " '1st_DayClose',\n",
       " '1_Day_perChnge',\n",
       " 'ChangeOpening',\n",
       " 'ChangeClose',\n",
       " 'Star_Ratings',\n",
       " 'Performed',\n",
       " 'Year',\n",
       " 'chngeOpentoClose',\n",
       " 'percentChnge',\n",
       " 'SP Week Change',\n",
       " 'Lead Mgr',\n",
       " 'Total Underwriters',\n",
       " 'Day',\n",
       " 'Month',\n",
       " 'Gap Open Pct',\n",
       " 'labels']"
      ]
     },
     "execution_count": 58,
     "metadata": {},
     "output_type": "execute_result"
    }
   ],
   "source": [
    "data.columns"
   ]
  },
  {
   "cell_type": "code",
   "execution_count": 59,
   "metadata": {
    "collapsed": true
   },
   "outputs": [],
   "source": [
    "from pyspark.sql.functions import date_format\n",
    "data = data.withColumn(\"Day\",date_format('date', 'E'))"
   ]
  },
  {
   "cell_type": "code",
   "execution_count": 60,
   "metadata": {
    "collapsed": true
   },
   "outputs": [],
   "source": [
    "monthdict = {1:'Jan', 2:'Feb', 3:'Mar', 4:'Apr',5:'May', 6:'Jun',7:'Jul',8:'Aug', 9:'Sep', 10:'Oct', 11:'Nov', 12:'Dec'}\n",
    "def month_name(inp):\n",
    "    if inp in monthdict:\n",
    "        print(monthdict[inp])\n",
    "        return monthdict[inp]\n",
    "    else:        \n",
    "        return inp  \n",
    "    \n",
    "month_udf = udf(month_name, StringType())"
   ]
  },
  {
   "cell_type": "code",
   "execution_count": 61,
   "metadata": {
    "scrolled": true
   },
   "outputs": [
    {
     "name": "stdout",
     "output_type": "stream",
     "text": [
      "root\n",
      " |-- date: date (nullable = true)\n",
      " |-- Issuer: string (nullable = true)\n",
      " |-- Symbol: string (nullable = true)\n",
      " |-- Lead/Joint-Lead  Managers: string (nullable = true)\n",
      " |-- OfferPrice: float (nullable = true)\n",
      " |-- OpeningPrice: float (nullable = true)\n",
      " |-- 1st_DayClose: float (nullable = true)\n",
      " |-- 1_Day_perChnge: float (nullable = true)\n",
      " |-- ChangeOpening: float (nullable = true)\n",
      " |-- ChangeClose: float (nullable = true)\n",
      " |-- Star_Ratings: integer (nullable = true)\n",
      " |-- Performed: string (nullable = true)\n",
      " |-- Year: integer (nullable = true)\n",
      " |-- chngeOpentoClose: float (nullable = true)\n",
      " |-- percentChnge: double (nullable = true)\n",
      " |-- SP Week Change: float (nullable = true)\n",
      " |-- Lead Mgr: string (nullable = true)\n",
      " |-- Total Underwriters: integer (nullable = true)\n",
      " |-- Day: string (nullable = true)\n",
      " |-- Month: string (nullable = true)\n",
      " |-- Gap Open Pct: double (nullable = true)\n",
      " |-- labels: integer (nullable = true)\n",
      "\n"
     ]
    }
   ],
   "source": [
    "data = data.withColumn(\"Month\", month_udf(month(data['date'])))\n",
    "data.printSchema()"
   ]
  },
  {
   "cell_type": "code",
   "execution_count": 62,
   "metadata": {
    "collapsed": true
   },
   "outputs": [],
   "source": [
    "data = data.withColumn(\"Gap Open Pct\",\\\n",
    "                       (data['ChangeOpening']/data['OpeningPrice'])*100)"
   ]
  },
  {
   "cell_type": "code",
   "execution_count": null,
   "metadata": {
    "collapsed": true
   },
   "outputs": [],
   "source": []
  }
 ],
 "metadata": {
  "kernelspec": {
   "display_name": "Python 3",
   "language": "python",
   "name": "python3"
  },
  "language_info": {
   "codemirror_mode": {
    "name": "ipython",
    "version": 3
   },
   "file_extension": ".py",
   "mimetype": "text/x-python",
   "name": "python",
   "nbconvert_exporter": "python",
   "pygments_lexer": "ipython3",
   "version": "3.6.3"
  }
 },
 "nbformat": 4,
 "nbformat_minor": 2
}
