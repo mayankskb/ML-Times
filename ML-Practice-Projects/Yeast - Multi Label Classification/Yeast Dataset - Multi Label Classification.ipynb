{
 "cells": [
  {
   "cell_type": "markdown",
   "metadata": {},
   "source": [
    "# Yeast Data Set - A multi label classification"
   ]
  },
  {
   "cell_type": "markdown",
   "metadata": {},
   "source": [
    "A real-world data set from the repository provided by MULAN package. These datasets are present in ARFF format."
   ]
  },
  {
   "cell_type": "code",
   "execution_count": 1,
   "metadata": {},
   "outputs": [],
   "source": [
    "#importing python packagesaccuracy\n",
    "\n",
    "import pandas as pd\n",
    "import scipy\n",
    "from scipy.io import arff\n",
    "from sklearn.model_selection import train_test_split"
   ]
  },
  {
   "cell_type": "code",
   "execution_count": 2,
   "metadata": {},
   "outputs": [],
   "source": [
    "train = pd.read_csv('yeast-train.csv')\n",
    "\n",
    "test = pd.read_csv('yeast-test.csv')"
   ]
  },
  {
   "cell_type": "code",
   "execution_count": 3,
   "metadata": {},
   "outputs": [
    {
     "data": {
      "text/html": [
       "<div>\n",
       "<style scoped>\n",
       "    .dataframe tbody tr th:only-of-type {\n",
       "        vertical-align: middle;\n",
       "    }\n",
       "\n",
       "    .dataframe tbody tr th {\n",
       "        vertical-align: top;\n",
       "    }\n",
       "\n",
       "    .dataframe thead th {\n",
       "        text-align: right;\n",
       "    }\n",
       "</style>\n",
       "<table border=\"1\" class=\"dataframe\">\n",
       "  <thead>\n",
       "    <tr style=\"text-align: right;\">\n",
       "      <th></th>\n",
       "      <th>id</th>\n",
       "      <th>Att1</th>\n",
       "      <th>Att2</th>\n",
       "      <th>Att3</th>\n",
       "      <th>Att4</th>\n",
       "      <th>Att5</th>\n",
       "      <th>Att6</th>\n",
       "      <th>Att7</th>\n",
       "      <th>Att8</th>\n",
       "      <th>Att9</th>\n",
       "      <th>...</th>\n",
       "      <th>Class5</th>\n",
       "      <th>Class6</th>\n",
       "      <th>Class7</th>\n",
       "      <th>Class8</th>\n",
       "      <th>Class9</th>\n",
       "      <th>Class10</th>\n",
       "      <th>Class11</th>\n",
       "      <th>Class12</th>\n",
       "      <th>Class13</th>\n",
       "      <th>Class14</th>\n",
       "    </tr>\n",
       "  </thead>\n",
       "  <tbody>\n",
       "    <tr>\n",
       "      <th>0</th>\n",
       "      <td>1</td>\n",
       "      <td>0.093700</td>\n",
       "      <td>0.139771</td>\n",
       "      <td>0.062774</td>\n",
       "      <td>0.007698</td>\n",
       "      <td>0.083873</td>\n",
       "      <td>-0.119156</td>\n",
       "      <td>0.073305</td>\n",
       "      <td>0.005510</td>\n",
       "      <td>0.027523</td>\n",
       "      <td>...</td>\n",
       "      <td>0</td>\n",
       "      <td>0</td>\n",
       "      <td>0</td>\n",
       "      <td>0</td>\n",
       "      <td>0</td>\n",
       "      <td>0</td>\n",
       "      <td>0</td>\n",
       "      <td>0</td>\n",
       "      <td>0</td>\n",
       "      <td>0</td>\n",
       "    </tr>\n",
       "    <tr>\n",
       "      <th>1</th>\n",
       "      <td>2</td>\n",
       "      <td>-0.022711</td>\n",
       "      <td>-0.050504</td>\n",
       "      <td>-0.035691</td>\n",
       "      <td>-0.065434</td>\n",
       "      <td>-0.084316</td>\n",
       "      <td>-0.378560</td>\n",
       "      <td>0.038212</td>\n",
       "      <td>0.085770</td>\n",
       "      <td>0.182613</td>\n",
       "      <td>...</td>\n",
       "      <td>0</td>\n",
       "      <td>0</td>\n",
       "      <td>1</td>\n",
       "      <td>1</td>\n",
       "      <td>0</td>\n",
       "      <td>0</td>\n",
       "      <td>0</td>\n",
       "      <td>1</td>\n",
       "      <td>1</td>\n",
       "      <td>0</td>\n",
       "    </tr>\n",
       "    <tr>\n",
       "      <th>2</th>\n",
       "      <td>3</td>\n",
       "      <td>-0.090407</td>\n",
       "      <td>0.021198</td>\n",
       "      <td>0.208712</td>\n",
       "      <td>0.102752</td>\n",
       "      <td>0.119315</td>\n",
       "      <td>0.041729</td>\n",
       "      <td>-0.021728</td>\n",
       "      <td>0.019603</td>\n",
       "      <td>-0.063853</td>\n",
       "      <td>...</td>\n",
       "      <td>0</td>\n",
       "      <td>0</td>\n",
       "      <td>0</td>\n",
       "      <td>0</td>\n",
       "      <td>0</td>\n",
       "      <td>0</td>\n",
       "      <td>0</td>\n",
       "      <td>1</td>\n",
       "      <td>1</td>\n",
       "      <td>0</td>\n",
       "    </tr>\n",
       "    <tr>\n",
       "      <th>3</th>\n",
       "      <td>4</td>\n",
       "      <td>-0.085235</td>\n",
       "      <td>0.009540</td>\n",
       "      <td>-0.013228</td>\n",
       "      <td>0.094063</td>\n",
       "      <td>-0.013592</td>\n",
       "      <td>-0.030719</td>\n",
       "      <td>-0.116062</td>\n",
       "      <td>-0.131674</td>\n",
       "      <td>-0.165448</td>\n",
       "      <td>...</td>\n",
       "      <td>0</td>\n",
       "      <td>0</td>\n",
       "      <td>0</td>\n",
       "      <td>0</td>\n",
       "      <td>0</td>\n",
       "      <td>0</td>\n",
       "      <td>0</td>\n",
       "      <td>1</td>\n",
       "      <td>1</td>\n",
       "      <td>1</td>\n",
       "    </tr>\n",
       "    <tr>\n",
       "      <th>4</th>\n",
       "      <td>5</td>\n",
       "      <td>-0.088765</td>\n",
       "      <td>-0.026743</td>\n",
       "      <td>0.002075</td>\n",
       "      <td>-0.043819</td>\n",
       "      <td>-0.005465</td>\n",
       "      <td>0.004306</td>\n",
       "      <td>-0.055865</td>\n",
       "      <td>-0.071484</td>\n",
       "      <td>-0.159025</td>\n",
       "      <td>...</td>\n",
       "      <td>0</td>\n",
       "      <td>0</td>\n",
       "      <td>0</td>\n",
       "      <td>0</td>\n",
       "      <td>0</td>\n",
       "      <td>0</td>\n",
       "      <td>0</td>\n",
       "      <td>0</td>\n",
       "      <td>0</td>\n",
       "      <td>0</td>\n",
       "    </tr>\n",
       "  </tbody>\n",
       "</table>\n",
       "<p>5 rows × 118 columns</p>\n",
       "</div>"
      ],
      "text/plain": [
       "   id      Att1      Att2      Att3      Att4      Att5      Att6      Att7  \\\n",
       "0   1  0.093700  0.139771  0.062774  0.007698  0.083873 -0.119156  0.073305   \n",
       "1   2 -0.022711 -0.050504 -0.035691 -0.065434 -0.084316 -0.378560  0.038212   \n",
       "2   3 -0.090407  0.021198  0.208712  0.102752  0.119315  0.041729 -0.021728   \n",
       "3   4 -0.085235  0.009540 -0.013228  0.094063 -0.013592 -0.030719 -0.116062   \n",
       "4   5 -0.088765 -0.026743  0.002075 -0.043819 -0.005465  0.004306 -0.055865   \n",
       "\n",
       "       Att8      Att9   ...     Class5  Class6  Class7  Class8  Class9  \\\n",
       "0  0.005510  0.027523   ...          0       0       0       0       0   \n",
       "1  0.085770  0.182613   ...          0       0       1       1       0   \n",
       "2  0.019603 -0.063853   ...          0       0       0       0       0   \n",
       "3 -0.131674 -0.165448   ...          0       0       0       0       0   \n",
       "4 -0.071484 -0.159025   ...          0       0       0       0       0   \n",
       "\n",
       "   Class10  Class11  Class12  Class13  Class14  \n",
       "0        0        0        0        0        0  \n",
       "1        0        0        1        1        0  \n",
       "2        0        0        1        1        0  \n",
       "3        0        0        1        1        1  \n",
       "4        0        0        0        0        0  \n",
       "\n",
       "[5 rows x 118 columns]"
      ]
     },
     "execution_count": 3,
     "metadata": {},
     "output_type": "execute_result"
    }
   ],
   "source": [
    "train.head(5)"
   ]
  },
  {
   "cell_type": "markdown",
   "metadata": {},
   "source": [
    "Here, Att represents the attributes or the independent variables and Class represents the target variables."
   ]
  },
  {
   "cell_type": "markdown",
   "metadata": {},
   "source": [
    "For practice purpose, we have another option to generate an artificial multi-label dataset.  \n",
    "\n",
    "from sklearn.datasets import make_multilabel_classification\n",
    "\n",
    "this will generate a random multi-label dataset\n",
    "\n",
    "\n",
    "**X, y = make_multilabel_classification(sparse = True, n_labels = 20,\n",
    "return_indicator = 'sparse', allow_unlabeled = False)\n",
    " **\n",
    "\n",
    "Let us understand the parameters used above.\n",
    "\n",
    "sparse: If True, returns a sparse matrix, where sparse matrix means a matrix having a large number of zero elements.\n",
    "\n",
    "n_labels:  The average number of labels for each instance.\n",
    "\n",
    "return_indicator: If ‘sparse’ return Y in the sparse binary indicator format.\n",
    "\n",
    "allow_unlabeled: If True, some instances might not belong to any class.\n",
    "\n",
    "You must have noticed that we have used sparse matrix everywhere, and scikit-multilearn also recommends to use data in the sparse form because it is very rare for a real-world data set to be dense. Generally, the number of labels assigned to each instance is very less."
   ]
  },
  {
   "cell_type": "code",
   "execution_count": 4,
   "metadata": {
    "scrolled": true
   },
   "outputs": [
    {
     "name": "stdout",
     "output_type": "stream",
     "text": [
      "id\n",
      "Att1\n",
      "Att2\n",
      "Att3\n",
      "Att4\n",
      "Att5\n",
      "Att6\n",
      "Att7\n",
      "Att8\n",
      "Att9\n",
      "Att10\n",
      "Att11\n",
      "Att12\n",
      "Att13\n",
      "Att14\n",
      "Att15\n",
      "Att16\n",
      "Att17\n",
      "Att18\n",
      "Att19\n",
      "Att20\n",
      "Att21\n",
      "Att22\n",
      "Att23\n",
      "Att24\n",
      "Att25\n",
      "Att26\n",
      "Att27\n",
      "Att28\n",
      "Att29\n",
      "Att30\n",
      "Att31\n",
      "Att32\n",
      "Att33\n",
      "Att34\n",
      "Att35\n",
      "Att36\n",
      "Att37\n",
      "Att38\n",
      "Att39\n",
      "Att40\n",
      "Att41\n",
      "Att42\n",
      "Att43\n",
      "Att44\n",
      "Att45\n",
      "Att46\n",
      "Att47\n",
      "Att48\n",
      "Att49\n",
      "Att50\n",
      "Att51\n",
      "Att52\n",
      "Att53\n",
      "Att54\n",
      "Att55\n",
      "Att56\n",
      "Att57\n",
      "Att58\n",
      "Att59\n",
      "Att60\n",
      "Att61\n",
      "Att62\n",
      "Att63\n",
      "Att64\n",
      "Att65\n",
      "Att66\n",
      "Att67\n",
      "Att68\n",
      "Att69\n",
      "Att70\n",
      "Att71\n",
      "Att72\n",
      "Att73\n",
      "Att74\n",
      "Att75\n",
      "Att76\n",
      "Att77\n",
      "Att78\n",
      "Att79\n",
      "Att80\n",
      "Att81\n",
      "Att82\n",
      "Att83\n",
      "Att84\n",
      "Att85\n",
      "Att86\n",
      "Att87\n",
      "Att88\n",
      "Att89\n",
      "Att90\n",
      "Att91\n",
      "Att92\n",
      "Att93\n",
      "Att94\n",
      "Att95\n",
      "Att96\n",
      "Att97\n",
      "Att98\n",
      "Att99\n",
      "Att100\n",
      "Att101\n",
      "Att102\n",
      "Att103\n",
      "Class1\n",
      "Class2\n",
      "Class3\n",
      "Class4\n",
      "Class5\n",
      "Class6\n",
      "Class7\n",
      "Class8\n",
      "Class9\n",
      "Class10\n",
      "Class11\n",
      "Class12\n",
      "Class13\n",
      "Class14\n"
     ]
    }
   ],
   "source": [
    "#printing out column names\n",
    "for col in train.columns:\n",
    "    print(col)"
   ]
  },
  {
   "cell_type": "markdown",
   "metadata": {},
   "source": [
    "Seeing at the above output we can see that on the basis of 103 Attributes we have 14 classes or we can say that we have 14 labels."
   ]
  },
  {
   "cell_type": "code",
   "execution_count": 5,
   "metadata": {},
   "outputs": [],
   "source": [
    "#spliting the features and labels into seperate variables\n",
    "train_x = train[['Att1', 'Att2', 'Att3', 'Att4', 'Att5', 'Att6', 'Att7', 'Att8', 'Att9', 'Att10', 'Att11', 'Att12', 'Att13', 'Att14', 'Att15', 'Att16', 'Att17', 'Att18', 'Att19', 'Att20', 'Att21', 'Att22', 'Att23', 'Att24', 'Att25', 'Att26', 'Att27', 'Att28', 'Att29', 'Att30', 'Att31', 'Att32', 'Att33', 'Att34', 'Att35', 'Att36', 'Att37', 'Att38', 'Att39', 'Att40', 'Att41', 'Att42', 'Att43', 'Att44', 'Att45', 'Att46', 'Att47', 'Att48', 'Att49', 'Att50', 'Att51', 'Att52', 'Att53', 'Att54', 'Att55', 'Att56', 'Att57', 'Att58', 'Att59', 'Att60', 'Att61', 'Att62', 'Att63', 'Att64', 'Att65', 'Att66', 'Att67', 'Att68', 'Att69', 'Att70', 'Att71', 'Att72', 'Att73', 'Att74', 'Att75', 'Att76', 'Att77', 'Att78', 'Att79', 'Att80', 'Att81', 'Att82', 'Att83', 'Att84', 'Att85', 'Att86', 'Att87', 'Att88', 'Att89', 'Att90', 'Att91', 'Att92', 'Att93', 'Att94', 'Att95', 'Att96', 'Att97', 'Att98', 'Att99', 'Att100', 'Att101', 'Att102', 'Att103']]\n",
    "train_y = train[['Class1', 'Class2', 'Class3', 'Class4', 'Class5', 'Class6', 'Class7', 'Class8', 'Class9', 'Class10', 'Class11', 'Class12', 'Class13', 'Class14']]"
   ]
  },
  {
   "cell_type": "code",
   "execution_count": 6,
   "metadata": {},
   "outputs": [],
   "source": [
    "#spliting the features and labels into seperate variables\n",
    "test_x = test[['Att1', 'Att2', 'Att3', 'Att4', 'Att5', 'Att6', 'Att7', 'Att8', 'Att9', 'Att10', 'Att11', 'Att12', 'Att13', 'Att14', 'Att15', 'Att16', 'Att17', 'Att18', 'Att19', 'Att20', 'Att21', 'Att22', 'Att23', 'Att24', 'Att25', 'Att26', 'Att27', 'Att28', 'Att29', 'Att30', 'Att31', 'Att32', 'Att33', 'Att34', 'Att35', 'Att36', 'Att37', 'Att38', 'Att39', 'Att40', 'Att41', 'Att42', 'Att43', 'Att44', 'Att45', 'Att46', 'Att47', 'Att48', 'Att49', 'Att50', 'Att51', 'Att52', 'Att53', 'Att54', 'Att55', 'Att56', 'Att57', 'Att58', 'Att59', 'Att60', 'Att61', 'Att62', 'Att63', 'Att64', 'Att65', 'Att66', 'Att67', 'Att68', 'Att69', 'Att70', 'Att71', 'Att72', 'Att73', 'Att74', 'Att75', 'Att76', 'Att77', 'Att78', 'Att79', 'Att80', 'Att81', 'Att82', 'Att83', 'Att84', 'Att85', 'Att86', 'Att87', 'Att88', 'Att89', 'Att90', 'Att91', 'Att92', 'Att93', 'Att94', 'Att95', 'Att96', 'Att97', 'Att98', 'Att99', 'Att100', 'Att101', 'Att102', 'Att103']]\n",
    "test_y = test[['Class1', 'Class2', 'Class3', 'Class4', 'Class5', 'Class6', 'Class7', 'Class8', 'Class9', 'Class10', 'Class11', 'Class12', 'Class13', 'Class14']]"
   ]
  },
  {
   "cell_type": "markdown",
   "metadata": {},
   "source": [
    "# Methods to solve Multi Label Classification\n",
    "\n",
    "1. Problem transformation\n",
    "2. Adapted Algorithm\n",
    "3. Ensemble Approach\n",
    "\n",
    "## Problem Transformation\n",
    "**We will try to transform the multi label problem into single label problems**\n",
    "This method can be carried out in three different ways as:<br/><br/>\n",
    "\n",
    "Binary Relevance<br/>\n",
    "Classifier Chains<br/>\n",
    "Label Powerset<br/>"
   ]
  },
  {
   "cell_type": "markdown",
   "metadata": {},
   "source": [
    "**Binary Relevance**\n",
    "\n",
    "This is the simplest technique, which basically treats each label as a separate single class classification problem."
   ]
  },
  {
   "cell_type": "code",
   "execution_count": 7,
   "metadata": {},
   "outputs": [],
   "source": [
    "# using binary relevance\n",
    "from skmultilearn.problem_transform import BinaryRelevance\n",
    "from sklearn.naive_bayes import GaussianNB\n",
    "\n",
    "# initialize binary relevance multi-label classifier\n",
    "# with a gaussian naive bayes base classifier\n",
    "classifier = BinaryRelevance(classifier=GaussianNB())\n",
    "\n",
    "# train\n",
    "classifier.fit(train_x, train_y)\n",
    "\n",
    "# predict\n",
    "predictions = classifier.predict(test_x)"
   ]
  },
  {
   "cell_type": "code",
   "execution_count": 8,
   "metadata": {},
   "outputs": [
    {
     "name": "stdout",
     "output_type": "stream",
     "text": [
      "The accuracy for binary relevance model is 10.359869138495092%\n"
     ]
    }
   ],
   "source": [
    "from sklearn.metrics import accuracy_score\n",
    "acc = accuracy_score(test_y,predictions)\n",
    "\n",
    "print(\"The accuracy for binary relevance model is {}%\".format(acc*100))"
   ]
  },
  {
   "cell_type": "markdown",
   "metadata": {},
   "source": [
    "We can see that this model is mot performing very well this is because that model does not consider the label correlation"
   ]
  },
  {
   "cell_type": "markdown",
   "metadata": {},
   "source": [
    "**Classifier Chains**"
   ]
  },
  {
   "cell_type": "markdown",
   "metadata": {},
   "source": [
    "In this, the first classifier is trained just on the input data and then each next classifier is trained on the input space and all the previous classifiers in the chain.<br/>\n",
    "This is quite similar to binary relevance, the only difference being it forms chains in order to preserve label correlation. So, let’s try to implement this using multi-learn library."
   ]
  },
  {
   "cell_type": "code",
   "execution_count": 9,
   "metadata": {},
   "outputs": [
    {
     "name": "stdout",
     "output_type": "stream",
     "text": [
      "The accuracy for classifier chain model is 9.269356597600872%\n"
     ]
    }
   ],
   "source": [
    "# using classifier chains\n",
    "from skmultilearn.problem_transform import ClassifierChain\n",
    "\n",
    "# initialize classifier chains multi-label classifier\n",
    "# with a gaussian naive bayes base classifier\n",
    "classifier = ClassifierChain(classifier = GaussianNB())\n",
    "\n",
    "# train\n",
    "classifier.fit(train_x, train_y)\n",
    "\n",
    "# predict\n",
    "predictions = classifier.predict(test_x)\n",
    "\n",
    "\n",
    "acc = accuracy_score(test_y,predictions)\n",
    "\n",
    "print(\"The accuracy for classifier chain model is {}%\".format(acc*100))"
   ]
  },
  {
   "cell_type": "markdown",
   "metadata": {},
   "source": [
    "The accuracy is very less, we can come to a conclusion that there might be due to lack of labelled correlation"
   ]
  },
  {
   "cell_type": "markdown",
   "metadata": {},
   "source": [
    "**Label Powerset**"
   ]
  },
  {
   "cell_type": "markdown",
   "metadata": {},
   "source": [
    "In this, we transform the problem into a multi-class problem with one multi-class classifier is trained on all unique label combinations found in the training data."
   ]
  },
  {
   "cell_type": "code",
   "execution_count": 10,
   "metadata": {
    "scrolled": false
   },
   "outputs": [
    {
     "name": "stdout",
     "output_type": "stream",
     "text": [
      "The accuracy for label powerset model is 9.269356597600872%\n"
     ]
    }
   ],
   "source": [
    "# using Label Powerset\n",
    "from skmultilearn.problem_transform import LabelPowerset\n",
    "\n",
    "# initialize Label powerset multi-label classifier\n",
    "# with a gaussian naive bayes base classifier\n",
    "classifier = ClassifierChain(classifier = GaussianNB())\n",
    "\n",
    "# train\n",
    "classifier.fit(train_x, train_y)\n",
    "\n",
    "# predict\n",
    "predictions = classifier.predict(test_x)\n",
    "\n",
    "\n",
    "acc = accuracy_score(test_y,predictions)\n",
    "\n",
    "print(\"The accuracy for label powerset model is {}%\".format(acc*100))"
   ]
  },
  {
   "cell_type": "markdown",
   "metadata": {},
   "source": [
    "# MLP classifier "
   ]
  },
  {
   "cell_type": "code",
   "execution_count": 11,
   "metadata": {},
   "outputs": [
    {
     "name": "stdout",
     "output_type": "stream",
     "text": [
      "The accuracy for adapted algorithm model is 18.974918211559434%\n"
     ]
    },
    {
     "name": "stderr",
     "output_type": "stream",
     "text": [
      "/home/mayank/anaconda3/lib/python3.6/site-packages/sklearn/neural_network/multilayer_perceptron.py:564: ConvergenceWarning: Stochastic Optimizer: Maximum iterations (200) reached and the optimization hasn't converged yet.\n",
      "  % self.max_iter, ConvergenceWarning)\n"
     ]
    }
   ],
   "source": [
    "from sklearn.neural_network import MLPClassifier\n",
    "\n",
    "classifier = MLPClassifier(alpha=0.1)\n",
    "\n",
    "# train\n",
    "classifier.fit(train_x, train_y)\n",
    "\n",
    "# predict\n",
    "predictions = classifier.predict(test_x)\n",
    "\n",
    "\n",
    "acc = accuracy_score(test_y,predictions)\n",
    "\n",
    "print(\"The accuracy for adapted algorithm model is {}%\".format(acc*100))"
   ]
  },
  {
   "cell_type": "code",
   "execution_count": 12,
   "metadata": {},
   "outputs": [
    {
     "data": {
      "text/plain": [
       "array([0, 0, 0, 1, 1, 0, 0, 0, 0, 0, 0, 1, 1, 0])"
      ]
     },
     "execution_count": 12,
     "metadata": {},
     "output_type": "execute_result"
    }
   ],
   "source": [
    "predictions[0]"
   ]
  },
  {
   "cell_type": "code",
   "execution_count": null,
   "metadata": {},
   "outputs": [],
   "source": []
  }
 ],
 "metadata": {
  "kernelspec": {
   "display_name": "Python 3",
   "language": "python",
   "name": "python3"
  },
  "language_info": {
   "codemirror_mode": {
    "name": "ipython",
    "version": 3
   },
   "file_extension": ".py",
   "mimetype": "text/x-python",
   "name": "python",
   "nbconvert_exporter": "python",
   "pygments_lexer": "ipython3",
   "version": "3.6.3"
  }
 },
 "nbformat": 4,
 "nbformat_minor": 2
}
