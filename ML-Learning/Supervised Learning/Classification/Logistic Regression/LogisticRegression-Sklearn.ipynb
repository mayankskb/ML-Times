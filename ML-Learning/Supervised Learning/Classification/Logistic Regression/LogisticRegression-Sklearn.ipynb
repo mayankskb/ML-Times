{
 "cells": [
  {
   "cell_type": "markdown",
   "metadata": {},
   "source": [
    "# Logistic Regression Model using sklearn \n"
   ]
  },
  {
   "cell_type": "code",
   "execution_count": 1,
   "metadata": {
    "collapsed": true
   },
   "outputs": [],
   "source": [
    "#importing required libraries\n",
    "\n",
    "import numpy as np\n",
    "import pandas as pd\n",
    "import matplotlib.pyplot as plt\n",
    "from sklearn.linear_model import LogisticRegression\n",
    "from sklearn.model_selection import train_test_split\n",
    "from sklearn.metrics import accuracy_score"
   ]
  },
  {
   "cell_type": "code",
   "execution_count": 3,
   "metadata": {},
   "outputs": [
    {
     "name": "stdout",
     "output_type": "stream",
     "text": [
      "      Exam_1     Exam_2  Result\n",
      "0  34.623660  78.024693       0\n",
      "1  30.286711  43.894998       0\n",
      "2  35.847409  72.902198       0\n",
      "3  60.182599  86.308552       1\n",
      "4  79.032736  75.344376       1\n"
     ]
    }
   ],
   "source": [
    "#reading the data into pandas dataframe object\n",
    "\n",
    "data = pd.read_csv('StudentData.csv', header=None, names =['Exam_1', 'Exam_2', 'Result'] )\n",
    "print(data.head())"
   ]
  },
  {
   "cell_type": "code",
   "execution_count": 6,
   "metadata": {
    "collapsed": true
   },
   "outputs": [],
   "source": [
    "#declaring the fields used for the predictor variable and for the target variable\n",
    "feature = ['Exam_1', 'Exam_2']\n",
    "target = ['Result']\n",
    "\n",
    "X = data[feature]\n",
    "Y = data[target]\n",
    "\n",
    "X_train, X_test, y_train, y_test = train_test_split(X, Y, train_size=0.7)"
   ]
  },
  {
   "cell_type": "markdown",
   "metadata": {},
   "source": [
    "# logistic regression model\n",
    "hypothesis function = g(z)\n",
    "where z = 1/1+e^(-thetaTranspose * feature)\n",
    "\n",
    "when thetaTranspose * feature >= 0.5 then it yields 1 \n",
    "else will yields 0"
   ]
  },
  {
   "cell_type": "code",
   "execution_count": 8,
   "metadata": {},
   "outputs": [
    {
     "name": "stderr",
     "output_type": "stream",
     "text": [
      "C:\\Users\\mayank.mishra\\AppData\\Local\\Continuum\\Anaconda3\\lib\\site-packages\\sklearn\\utils\\validation.py:526: DataConversionWarning: A column-vector y was passed when a 1d array was expected. Please change the shape of y to (n_samples, ), for example using ravel().\n",
      "  y = column_or_1d(y, warn=True)\n"
     ]
    },
    {
     "data": {
      "text/plain": [
       "LogisticRegression(C=1.0, class_weight=None, dual=False, fit_intercept=True,\n",
       "          intercept_scaling=1, max_iter=100, multi_class='ovr', n_jobs=1,\n",
       "          penalty='l2', random_state=None, solver='liblinear', tol=0.0001,\n",
       "          verbose=0, warm_start=False)"
      ]
     },
     "execution_count": 8,
     "metadata": {},
     "output_type": "execute_result"
    }
   ],
   "source": [
    "#making object of our Logistic regression model \n",
    "model = LogisticRegression()\n",
    "\n",
    "#fitting out model with the train features and targets\n",
    "model.fit(X_train, y_train)"
   ]
  },
  {
   "cell_type": "code",
   "execution_count": 10,
   "metadata": {},
   "outputs": [
    {
     "name": "stdout",
     "output_type": "stream",
     "text": [
      "0.833333333333\n",
      "0.833333333333\n"
     ]
    }
   ],
   "source": [
    "#making prediction \n",
    "predictions = model.predict(X_test)\n",
    "\n",
    "#calculating score for the model \n",
    "score = model.score(X_test, y_test)\n",
    "print(score)\n",
    "\n",
    "#calculating accuracy for the model\n",
    "acc = accuracy_score(y_test, predictions)\n",
    "print(acc)"
   ]
  }
 ],
 "metadata": {
  "kernelspec": {
   "display_name": "Python 3",
   "language": "python",
   "name": "python3"
  },
  "language_info": {
   "codemirror_mode": {
    "name": "ipython",
    "version": 3
   },
   "file_extension": ".py",
   "mimetype": "text/x-python",
   "name": "python",
   "nbconvert_exporter": "python",
   "pygments_lexer": "ipython3",
   "version": "3.6.1"
  }
 },
 "nbformat": 4,
 "nbformat_minor": 2
}
